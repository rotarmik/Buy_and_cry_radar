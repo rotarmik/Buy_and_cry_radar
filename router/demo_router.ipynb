{
 "cells": [
  {
   "cell_type": "code",
   "execution_count": 4,
   "id": "eaa7e3d5",
   "metadata": {},
   "outputs": [
    {
     "name": "stdout",
     "output_type": "stream",
     "text": [
      "[[{'url': 'https://www.investing.com/equities/gazprom_rts', 'title': 'Gazprom Stock Price Today | MCX: GAZP Live - Investing.com', 'content': 'As of Aug 21, 2025, Gazprom PJSC (GAZP) is trading at a price of 130.66, with a previous close of 135.31. The stock has fluctuated within a day range of 130.35 to 135.48, while its 52-week range spans from 105.22 to 184.80.\\n\\nFind a Stock Broker\\n\\nUS 30\")\\n\\n44,809.00\\n\\n-129.1\\n\\n-0.29%\\n\\nUS 500\")\\n\\n6,373.40\\n\\n-22.4\\n\\n-0.35%\\n\\nDow Jones\\n\\n44,807.87\\n\\n-130.44\\n\\n-0.29%\\n\\nS&P 500\")\\n\\n6,373.06\\n\\n-22.73\\n\\n-0.36%\\n\\nNasdaq\\n\\n21,092.02\\n\\n-80.84\\n\\n-0.38%\\n\\nS&P 500 VIX\")\\n\\n16.69\\n\\n+1.00\\n\\n+6.37%\\n\\nDollar Index\")\\n\\n98.50\\n\\n+0.420', 'score': 0.9057319, 'raw_content': None, 'source': 'tavily'}, {'url': 'https://www.moex.com/en/issue.aspx?board=TQBR&code=GAZP', 'title': 'GAZP — Moscow Exchange', 'content': '1913\\n\\n1912\\n\\n1911\\n\\n1910\\n\\n1909\\n\\n1908\\n\\n1907\\n\\n1906\\n\\n1905\\n\\n1904\\n\\n1903\\n\\n1902\\n\\n1901\\n\\n1900\\n\\n10 - October\\n\\n2025\\n\\nmo\\n\\ntu\\n\\nwe\\n\\nth\\n\\nfr\\n\\nsa\\n\\nsu\\n\\n1\\n\\n2\\n\\n3\\n\\n4\\n\\n5\\n\\n6\\n\\n7\\n\\n8\\n\\n9\\n\\n10\\n\\n11\\n\\n12\\n\\n13\\n\\n14\\n\\n15\\n\\n16\\n\\n17\\n\\n18\\n\\n19\\n\\n20\\n\\n21\\n\\n22\\n\\n23\\n\\n24\\n\\n25\\n\\n26\\n\\n27\\n\\n28\\n\\n29\\n\\n30\\n\\n31\\n\\n## Summary\\n\\nPJSC \"GAZPROM\" (GAZP) share price for 03.10.2025 is 115.99 RUB; PJSC \"GAZPROM\" (GAZP) share trading volume is 4,813,001,069.70 RUB. Trading results for PJSC \"GAZPROM\" (GAZP) share. [...] 1924\\n\\n1923\\n\\n1922\\n\\n1921\\n\\n1920\\n\\n1919\\n\\n1918\\n\\n1917\\n\\n1916\\n\\n1915\\n\\n1914\\n\\n1913\\n\\n1912\\n\\n1911\\n\\n1910\\n\\n1909\\n\\n1908\\n\\n1907\\n\\n1906\\n\\n1905\\n\\n1904\\n\\n1903\\n\\n1902\\n\\n1901\\n\\n10 - October\\n\\n2025\\n\\n1\\n\\n01 - January\\n\\n02 - February\\n\\n03 - March\\n\\n04 - April\\n\\n05 - May\\n\\n06 - June\\n\\n07 - July\\n\\n08 - August\\n\\n09 - September\\n\\n10 - October\\n\\n11 - November\\n\\n12 - December\\n\\n2025\\n\\n2024\\n\\n2023\\n\\n2022\\n\\n2021\\n\\n2020\\n\\n2019\\n\\n2018\\n\\n2017\\n\\n2016\\n\\n2015\\n\\n2014\\n\\n2013\\n\\n2012\\n\\n2011\\n\\n2010\\n\\n2009\\n\\n2008\\n\\n2007\\n\\n2006\\n\\n2005\\n\\n2004\\n\\n2003\\n\\n2002\\n\\n2001\\n\\n2000\\n\\n1999\\n\\n1998\\n\\n1997 [...] | Symbol | Name | Value | Change |\\n ---  --- |\\n| EPSI | MOEX Pension Equity Sub-index | 1,498.34 | -0.94%  -14.24 |\\n| ICLIMATE | MOEX Climate Index | 919.16 | -0.98%  -9.13 |\\n| IMOEXCNY | MOEX Russia CNY Index | 1,043.83 | -2.6%  -27.91 |\\n| IMOEXW | MOEX Active Management Index | 2,597.09 | -1.07%  -27.98 |\\n| MOEXBC | MOEX Blue Chip Index | 17,146.35 | -1.1%  -191.49 |\\n\\nMOEX Pension Equity Sub-index\\n\\nEPSI\\n\\n1,498.34\\n\\n-0.94%\\n\\n-14.24\\n\\nMOEX Climate Index\\n\\nICLIMATE\\n\\n919.16\\n\\n-0.98%\\n\\n-9.13', 'score': 0.82761955, 'raw_content': None, 'source': 'tavily'}, {'url': 'https://finance.yahoo.com/quote/GAZP.ME/', 'title': 'Public Joint Stock Company Gazprom (GAZP.ME) - Yahoo Finance', 'content': \"Previous Close 197.92\\n   Open 200.00\\n   Bid 199.95 x 210000\\n   Ask 195.00 x 1459000\\n   Day's Range 196.57 - 201.87\\n   52 Week Range 196.57 - 266.68\\n   Volume 28,893,760\\n   Avg. Volume 0\\n   Market Cap (intraday)4.682T\\n   Beta (5Y Monthly)0.47\\n   PE Ratio (TTM)2.24\\n   EPS (TTM)88.51\\n   Earnings Date Aug 6, 2025 - Aug 11, 2025\\n   Forward Dividend & Yield--\\n   Ex-Dividend Date Oct 10, 2022\\n   1y Target Est--\\n\\nPublic Joint Stock Company Gazprom Overview Oil & Gas Integrated / Energy [...] www.gazprom.com\\n\\n--\\n\\n### Full Time Employees\\n\\nDecember 31\\n\\n### Fiscal Year Ends\\n\\nEnergy\\n\\n### Sector\\n\\nOil & Gas Integrated\\n\\n### Industry\\n\\nMore about Public Joint Stock Company Gazprom\\n\\n### Recent News: GAZP.ME\\n\\nView More\\n\\nAll News Earnings Calls Press Releases SEC Filings \\n\\nImage 2: Gazprom reports 6% decrease in net profit to $12bn for H1 2025\\n\\n### Gazprom reports 6% decrease in net profit to $12bn for H1 2025\\n\\nOffshore Technology _•_ 5 hours ago [...] 43.   Breaking News • 5 days ago Stocks closed higher as investors absorbed Trump's escalating battle with the Fed. Nvidia earnings loom on Wednesday.\\n    44.   Breaking News • 5 days ago The Fed broke its silence on Trump's bid to oust Lisa Cook, saying it would 'abide by any court decision' in Cook's legal challenge\\n    45.   News • 5 days ago Trump’s bid to oust the Fed's Lisa Cook puts more focus on an early-2026 deadline that could reshape the central bank’s power balance.\", 'score': 0.78074646, 'raw_content': None, 'source': 'tavily'}, {'url': 'https://www.themoscowtimes.com/2025/03/26/gazprom-plans-major-corporate-overhaul-amid-financial-crisis-ft-a88493', 'title': 'Gazprom Plans Major Corporate Overhaul Amid Financial Crisis – FT', 'content': 'Looking ahead, Gazprom could lose 15 trillion rubles (almost $179 billion) between 2025 and 2034, according to FT. The company also expects its gas exports to Europe and Turkey to fall to 47 billion cubic meters in 2025 and 34 billion cubic meters in 2034 — a fivefold drop from 2019.', 'score': 0.6847074, 'raw_content': None, 'source': 'tavily'}, {'url': 'https://stockanalysis.com/quote/moex/GAZP/', 'title': 'Gazprom (MOEX:GAZP) Stock Price & Overview', 'content': \"Industry Petroleum Refining\\n\\nFounded 1993\\n\\nEmployees 468,000\\n\\nStock Exchange Moscow Stock Exchange\\n\\nTicker Symbol GAZP\\n\\nFull Company Profile\\n\\n## Financial Performance\\n\\nFinancial Statements\\n\\n## News\\n\\n### Cold Snap Fuels Record Gas Demand for Gazprom in Russia\\n\\nGazprom delivered a record-high volume of natural gas to domestic customers on September 30 as a cold snap gripped Russia, the Russian gas giant said on Thursday. The increase in gas consumption is as...\\n\\n2 days ago - OilPrice com [...] MOSCOW (Reuters) -The Salavat petrochemical complex, one of Russia's largest which is located in Bashkortostan region, was attacked by Ukrainian drones, the local governor said on Wednesday via his ch...\\n\\n10 days ago - Yahoo\\n\\n### Ukrainian drone strike sets fire to Bashkortostan's Gazprom plant, Russia claims\\n\\nUkrainian forces carried out another attack against the Gazprom Neftekhim Salavat petrochemical plant in Russia's Bashkortostan Republic, local authorities reported on Sept. 24. [...] |  |  |\\n --- |\\n| Volume | 28,893,760 |\\n| Average Volume | 58,718,596 |\\n| Open | 200.00 |\\n| Previous Close | 197.92 |\\n| Day's Range | 196.57 - 201.87 |\\n| 52-Week Range | 126.53 - 397.64 |\\n| Beta | 0.46 |\\n| RSI | 25.21 |\\n| Earnings Date | Nov 28, 2025 |\\n\\n## About Gazprom\", 'score': 0.6628188, 'raw_content': None, 'source': 'tavily'}]]\n"
     ]
    }
   ],
   "source": [
    "from router import Router\n",
    "\n",
    "# ДОБАВИТЬ АПИ ОТ ТАВИЛИ!!!\n",
    "api_tavily = \"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\"\n",
    "\n",
    "# ДОБАВИТЬ АПИ ОТ TG!!!\n",
    "tg_api_id = None\n",
    "tg_api_hash = None\n",
    "tg_channels = None\n",
    "\n",
    "r=Router(tavily_key=api_tavily, \n",
    "         tg_api_id=tg_api_id, \n",
    "         tg_api_hash=tg_api_hash, \n",
    "         tg_channels=tg_channels)\n",
    "\n",
    "start_time = '2025-08-01'\n",
    "end_time = '2025-09-01'\n",
    "ticker = 'GAZP'\n",
    "region = 'Russia'\n",
    "res = r.get_news(start_time=start_time, end_time=end_time, ticker=ticker, region=region)\n",
    "\n",
    "print(res)"
   ]
  }
 ],
 "metadata": {
  "kernelspec": {
   "display_name": "llm",
   "language": "python",
   "name": "python3"
  },
  "language_info": {
   "codemirror_mode": {
    "name": "ipython",
    "version": 3
   },
   "file_extension": ".py",
   "mimetype": "text/x-python",
   "name": "python",
   "nbconvert_exporter": "python",
   "pygments_lexer": "ipython3",
   "version": "3.11.0"
  }
 },
 "nbformat": 4,
 "nbformat_minor": 5
}
