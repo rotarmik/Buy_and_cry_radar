{
 "cells": [
  {
   "cell_type": "code",
   "execution_count": 2,
   "id": "eaa7e3d5",
   "metadata": {},
   "outputs": [
    {
     "name": "stdout",
     "output_type": "stream",
     "text": [
      "[]\n"
     ]
    }
   ],
   "source": [
    "from router import Router\n",
    "\n",
    "# ДОБАВИТЬ АПИ ОТ ТАВИЛИ!!!\n",
    "api_tavily = None\n",
    "\n",
    "# ДОБАВИТЬ АПИ ОТ TG!!!\n",
    "tg_api_id = None\n",
    "tg_api_hash = None\n",
    "tg_channels = None\n",
    "\n",
    "r=Router(tavily_key=api_tavily, \n",
    "         tg_api_id=tg_api_id, \n",
    "         tg_api_hash=tg_api_hash, \n",
    "         tg_channels=tg_channels)\n",
    "\n",
    "start_time = '2025-08-01'\n",
    "end_time = '2025-09-01'\n",
    "ticker = 'GAZP'\n",
    "region = 'Russia'\n",
    "res = r.get_news(start_time=start_time, end_time=end_time, ticker=ticker, region=region)\n",
    "\n",
    "print(res)"
   ]
  }
 ],
 "metadata": {
  "kernelspec": {
   "display_name": "Python 3",
   "language": "python",
   "name": "python3"
  },
  "language_info": {
   "codemirror_mode": {
    "name": "ipython",
    "version": 3
   },
   "file_extension": ".py",
   "mimetype": "text/x-python",
   "name": "python",
   "nbconvert_exporter": "python",
   "pygments_lexer": "ipython3",
   "version": "3.11.9"
  }
 },
 "nbformat": 4,
 "nbformat_minor": 5
}
