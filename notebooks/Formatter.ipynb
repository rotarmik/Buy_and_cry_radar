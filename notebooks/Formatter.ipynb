{
  "nbformat": 4,
  "nbformat_minor": 0,
  "metadata": {
    "colab": {
      "provenance": []
    },
    "kernelspec": {
      "name": "python3",
      "display_name": "Python 3"
    },
    "language_info": {
      "name": "python"
    },
    "widgets": {
      "application/vnd.jupyter.widget-state+json": {
        "37eebba0cf5d47cfa972dae7399e9968": {
          "model_module": "@jupyter-widgets/controls",
          "model_name": "HBoxModel",
          "model_module_version": "1.5.0",
          "state": {
            "_dom_classes": [],
            "_model_module": "@jupyter-widgets/controls",
            "_model_module_version": "1.5.0",
            "_model_name": "HBoxModel",
            "_view_count": null,
            "_view_module": "@jupyter-widgets/controls",
            "_view_module_version": "1.5.0",
            "_view_name": "HBoxView",
            "box_style": "",
            "children": [
              "IPY_MODEL_c5ac352fa0b848129acb3e688b3bcfc8",
              "IPY_MODEL_e9684fc92c2444be9e793f6dea9f8a09",
              "IPY_MODEL_57fe485a10364abcbc426415e39b6d8a"
            ],
            "layout": "IPY_MODEL_10cae2dca6d54ec5b50cb9893cad2870"
          }
        },
        "c5ac352fa0b848129acb3e688b3bcfc8": {
          "model_module": "@jupyter-widgets/controls",
          "model_name": "HTMLModel",
          "model_module_version": "1.5.0",
          "state": {
            "_dom_classes": [],
            "_model_module": "@jupyter-widgets/controls",
            "_model_module_version": "1.5.0",
            "_model_name": "HTMLModel",
            "_view_count": null,
            "_view_module": "@jupyter-widgets/controls",
            "_view_module_version": "1.5.0",
            "_view_name": "HTMLView",
            "description": "",
            "description_tooltip": null,
            "layout": "IPY_MODEL_835554be34294cd49121c3f5c53677f1",
            "placeholder": "​",
            "style": "IPY_MODEL_19bea2e7a51d481791305957d16a1beb",
            "value": "Downloading https://raw.githubusercontent.com/stanfordnlp/stanza-resources/main/resources_1.10.0.json: "
          }
        },
        "e9684fc92c2444be9e793f6dea9f8a09": {
          "model_module": "@jupyter-widgets/controls",
          "model_name": "FloatProgressModel",
          "model_module_version": "1.5.0",
          "state": {
            "_dom_classes": [],
            "_model_module": "@jupyter-widgets/controls",
            "_model_module_version": "1.5.0",
            "_model_name": "FloatProgressModel",
            "_view_count": null,
            "_view_module": "@jupyter-widgets/controls",
            "_view_module_version": "1.5.0",
            "_view_name": "ProgressView",
            "bar_style": "success",
            "description": "",
            "description_tooltip": null,
            "layout": "IPY_MODEL_481cd852336347e8a7e15917a15fb260",
            "max": 53595,
            "min": 0,
            "orientation": "horizontal",
            "style": "IPY_MODEL_d67c69167cb94e84aeeb3964ea7d9cc0",
            "value": 53595
          }
        },
        "57fe485a10364abcbc426415e39b6d8a": {
          "model_module": "@jupyter-widgets/controls",
          "model_name": "HTMLModel",
          "model_module_version": "1.5.0",
          "state": {
            "_dom_classes": [],
            "_model_module": "@jupyter-widgets/controls",
            "_model_module_version": "1.5.0",
            "_model_name": "HTMLModel",
            "_view_count": null,
            "_view_module": "@jupyter-widgets/controls",
            "_view_module_version": "1.5.0",
            "_view_name": "HTMLView",
            "description": "",
            "description_tooltip": null,
            "layout": "IPY_MODEL_dad341635932431987d96811b0279ded",
            "placeholder": "​",
            "style": "IPY_MODEL_56d964a8f8d649598516188de2c81b92",
            "value": " 434k/? [00:00&lt;00:00, 25.8MB/s]"
          }
        },
        "10cae2dca6d54ec5b50cb9893cad2870": {
          "model_module": "@jupyter-widgets/base",
          "model_name": "LayoutModel",
          "model_module_version": "1.2.0",
          "state": {
            "_model_module": "@jupyter-widgets/base",
            "_model_module_version": "1.2.0",
            "_model_name": "LayoutModel",
            "_view_count": null,
            "_view_module": "@jupyter-widgets/base",
            "_view_module_version": "1.2.0",
            "_view_name": "LayoutView",
            "align_content": null,
            "align_items": null,
            "align_self": null,
            "border": null,
            "bottom": null,
            "display": null,
            "flex": null,
            "flex_flow": null,
            "grid_area": null,
            "grid_auto_columns": null,
            "grid_auto_flow": null,
            "grid_auto_rows": null,
            "grid_column": null,
            "grid_gap": null,
            "grid_row": null,
            "grid_template_areas": null,
            "grid_template_columns": null,
            "grid_template_rows": null,
            "height": null,
            "justify_content": null,
            "justify_items": null,
            "left": null,
            "margin": null,
            "max_height": null,
            "max_width": null,
            "min_height": null,
            "min_width": null,
            "object_fit": null,
            "object_position": null,
            "order": null,
            "overflow": null,
            "overflow_x": null,
            "overflow_y": null,
            "padding": null,
            "right": null,
            "top": null,
            "visibility": null,
            "width": null
          }
        },
        "835554be34294cd49121c3f5c53677f1": {
          "model_module": "@jupyter-widgets/base",
          "model_name": "LayoutModel",
          "model_module_version": "1.2.0",
          "state": {
            "_model_module": "@jupyter-widgets/base",
            "_model_module_version": "1.2.0",
            "_model_name": "LayoutModel",
            "_view_count": null,
            "_view_module": "@jupyter-widgets/base",
            "_view_module_version": "1.2.0",
            "_view_name": "LayoutView",
            "align_content": null,
            "align_items": null,
            "align_self": null,
            "border": null,
            "bottom": null,
            "display": null,
            "flex": null,
            "flex_flow": null,
            "grid_area": null,
            "grid_auto_columns": null,
            "grid_auto_flow": null,
            "grid_auto_rows": null,
            "grid_column": null,
            "grid_gap": null,
            "grid_row": null,
            "grid_template_areas": null,
            "grid_template_columns": null,
            "grid_template_rows": null,
            "height": null,
            "justify_content": null,
            "justify_items": null,
            "left": null,
            "margin": null,
            "max_height": null,
            "max_width": null,
            "min_height": null,
            "min_width": null,
            "object_fit": null,
            "object_position": null,
            "order": null,
            "overflow": null,
            "overflow_x": null,
            "overflow_y": null,
            "padding": null,
            "right": null,
            "top": null,
            "visibility": null,
            "width": null
          }
        },
        "19bea2e7a51d481791305957d16a1beb": {
          "model_module": "@jupyter-widgets/controls",
          "model_name": "DescriptionStyleModel",
          "model_module_version": "1.5.0",
          "state": {
            "_model_module": "@jupyter-widgets/controls",
            "_model_module_version": "1.5.0",
            "_model_name": "DescriptionStyleModel",
            "_view_count": null,
            "_view_module": "@jupyter-widgets/base",
            "_view_module_version": "1.2.0",
            "_view_name": "StyleView",
            "description_width": ""
          }
        },
        "481cd852336347e8a7e15917a15fb260": {
          "model_module": "@jupyter-widgets/base",
          "model_name": "LayoutModel",
          "model_module_version": "1.2.0",
          "state": {
            "_model_module": "@jupyter-widgets/base",
            "_model_module_version": "1.2.0",
            "_model_name": "LayoutModel",
            "_view_count": null,
            "_view_module": "@jupyter-widgets/base",
            "_view_module_version": "1.2.0",
            "_view_name": "LayoutView",
            "align_content": null,
            "align_items": null,
            "align_self": null,
            "border": null,
            "bottom": null,
            "display": null,
            "flex": null,
            "flex_flow": null,
            "grid_area": null,
            "grid_auto_columns": null,
            "grid_auto_flow": null,
            "grid_auto_rows": null,
            "grid_column": null,
            "grid_gap": null,
            "grid_row": null,
            "grid_template_areas": null,
            "grid_template_columns": null,
            "grid_template_rows": null,
            "height": null,
            "justify_content": null,
            "justify_items": null,
            "left": null,
            "margin": null,
            "max_height": null,
            "max_width": null,
            "min_height": null,
            "min_width": null,
            "object_fit": null,
            "object_position": null,
            "order": null,
            "overflow": null,
            "overflow_x": null,
            "overflow_y": null,
            "padding": null,
            "right": null,
            "top": null,
            "visibility": null,
            "width": null
          }
        },
        "d67c69167cb94e84aeeb3964ea7d9cc0": {
          "model_module": "@jupyter-widgets/controls",
          "model_name": "ProgressStyleModel",
          "model_module_version": "1.5.0",
          "state": {
            "_model_module": "@jupyter-widgets/controls",
            "_model_module_version": "1.5.0",
            "_model_name": "ProgressStyleModel",
            "_view_count": null,
            "_view_module": "@jupyter-widgets/base",
            "_view_module_version": "1.2.0",
            "_view_name": "StyleView",
            "bar_color": null,
            "description_width": ""
          }
        },
        "dad341635932431987d96811b0279ded": {
          "model_module": "@jupyter-widgets/base",
          "model_name": "LayoutModel",
          "model_module_version": "1.2.0",
          "state": {
            "_model_module": "@jupyter-widgets/base",
            "_model_module_version": "1.2.0",
            "_model_name": "LayoutModel",
            "_view_count": null,
            "_view_module": "@jupyter-widgets/base",
            "_view_module_version": "1.2.0",
            "_view_name": "LayoutView",
            "align_content": null,
            "align_items": null,
            "align_self": null,
            "border": null,
            "bottom": null,
            "display": null,
            "flex": null,
            "flex_flow": null,
            "grid_area": null,
            "grid_auto_columns": null,
            "grid_auto_flow": null,
            "grid_auto_rows": null,
            "grid_column": null,
            "grid_gap": null,
            "grid_row": null,
            "grid_template_areas": null,
            "grid_template_columns": null,
            "grid_template_rows": null,
            "height": null,
            "justify_content": null,
            "justify_items": null,
            "left": null,
            "margin": null,
            "max_height": null,
            "max_width": null,
            "min_height": null,
            "min_width": null,
            "object_fit": null,
            "object_position": null,
            "order": null,
            "overflow": null,
            "overflow_x": null,
            "overflow_y": null,
            "padding": null,
            "right": null,
            "top": null,
            "visibility": null,
            "width": null
          }
        },
        "56d964a8f8d649598516188de2c81b92": {
          "model_module": "@jupyter-widgets/controls",
          "model_name": "DescriptionStyleModel",
          "model_module_version": "1.5.0",
          "state": {
            "_model_module": "@jupyter-widgets/controls",
            "_model_module_version": "1.5.0",
            "_model_name": "DescriptionStyleModel",
            "_view_count": null,
            "_view_module": "@jupyter-widgets/base",
            "_view_module_version": "1.2.0",
            "_view_name": "StyleView",
            "description_width": ""
          }
        },
        "47da3fdebe1a454e8db6ccbc41fa4902": {
          "model_module": "@jupyter-widgets/controls",
          "model_name": "HBoxModel",
          "model_module_version": "1.5.0",
          "state": {
            "_dom_classes": [],
            "_model_module": "@jupyter-widgets/controls",
            "_model_module_version": "1.5.0",
            "_model_name": "HBoxModel",
            "_view_count": null,
            "_view_module": "@jupyter-widgets/controls",
            "_view_module_version": "1.5.0",
            "_view_name": "HBoxView",
            "box_style": "",
            "children": [
              "IPY_MODEL_1099f9be35f74a8591af9b333814993d",
              "IPY_MODEL_542ccd44397f4e61b46d4da61992b01f",
              "IPY_MODEL_5c1bd2d3ed984346957865c90049a2ae"
            ],
            "layout": "IPY_MODEL_1fdb55fad8a0418e817ddd222edb5f3b"
          }
        },
        "1099f9be35f74a8591af9b333814993d": {
          "model_module": "@jupyter-widgets/controls",
          "model_name": "HTMLModel",
          "model_module_version": "1.5.0",
          "state": {
            "_dom_classes": [],
            "_model_module": "@jupyter-widgets/controls",
            "_model_module_version": "1.5.0",
            "_model_name": "HTMLModel",
            "_view_count": null,
            "_view_module": "@jupyter-widgets/controls",
            "_view_module_version": "1.5.0",
            "_view_name": "HTMLView",
            "description": "",
            "description_tooltip": null,
            "layout": "IPY_MODEL_9bdb4540c5d8442689268194feb57f1a",
            "placeholder": "​",
            "style": "IPY_MODEL_bdd3583c40874da5bdbc8b3f77231bdf",
            "value": "Downloading https://huggingface.co/stanfordnlp/stanza-ru/resolve/v1.10.0/models/default.zip: 100%"
          }
        },
        "542ccd44397f4e61b46d4da61992b01f": {
          "model_module": "@jupyter-widgets/controls",
          "model_name": "FloatProgressModel",
          "model_module_version": "1.5.0",
          "state": {
            "_dom_classes": [],
            "_model_module": "@jupyter-widgets/controls",
            "_model_module_version": "1.5.0",
            "_model_name": "FloatProgressModel",
            "_view_count": null,
            "_view_module": "@jupyter-widgets/controls",
            "_view_module_version": "1.5.0",
            "_view_name": "ProgressView",
            "bar_style": "success",
            "description": "",
            "description_tooltip": null,
            "layout": "IPY_MODEL_6265c72d79894f5ebff077d0741c51b6",
            "max": 629165195,
            "min": 0,
            "orientation": "horizontal",
            "style": "IPY_MODEL_5cf7b3ffb474482ca1c79ce609a1a46e",
            "value": 629165195
          }
        },
        "5c1bd2d3ed984346957865c90049a2ae": {
          "model_module": "@jupyter-widgets/controls",
          "model_name": "HTMLModel",
          "model_module_version": "1.5.0",
          "state": {
            "_dom_classes": [],
            "_model_module": "@jupyter-widgets/controls",
            "_model_module_version": "1.5.0",
            "_model_name": "HTMLModel",
            "_view_count": null,
            "_view_module": "@jupyter-widgets/controls",
            "_view_module_version": "1.5.0",
            "_view_name": "HTMLView",
            "description": "",
            "description_tooltip": null,
            "layout": "IPY_MODEL_143ff0c18385446fb78c810d6585de52",
            "placeholder": "​",
            "style": "IPY_MODEL_eee7d542b27044b79c05e64d21b95061",
            "value": " 629M/629M [00:02&lt;00:00, 259MB/s]"
          }
        },
        "1fdb55fad8a0418e817ddd222edb5f3b": {
          "model_module": "@jupyter-widgets/base",
          "model_name": "LayoutModel",
          "model_module_version": "1.2.0",
          "state": {
            "_model_module": "@jupyter-widgets/base",
            "_model_module_version": "1.2.0",
            "_model_name": "LayoutModel",
            "_view_count": null,
            "_view_module": "@jupyter-widgets/base",
            "_view_module_version": "1.2.0",
            "_view_name": "LayoutView",
            "align_content": null,
            "align_items": null,
            "align_self": null,
            "border": null,
            "bottom": null,
            "display": null,
            "flex": null,
            "flex_flow": null,
            "grid_area": null,
            "grid_auto_columns": null,
            "grid_auto_flow": null,
            "grid_auto_rows": null,
            "grid_column": null,
            "grid_gap": null,
            "grid_row": null,
            "grid_template_areas": null,
            "grid_template_columns": null,
            "grid_template_rows": null,
            "height": null,
            "justify_content": null,
            "justify_items": null,
            "left": null,
            "margin": null,
            "max_height": null,
            "max_width": null,
            "min_height": null,
            "min_width": null,
            "object_fit": null,
            "object_position": null,
            "order": null,
            "overflow": null,
            "overflow_x": null,
            "overflow_y": null,
            "padding": null,
            "right": null,
            "top": null,
            "visibility": null,
            "width": null
          }
        },
        "9bdb4540c5d8442689268194feb57f1a": {
          "model_module": "@jupyter-widgets/base",
          "model_name": "LayoutModel",
          "model_module_version": "1.2.0",
          "state": {
            "_model_module": "@jupyter-widgets/base",
            "_model_module_version": "1.2.0",
            "_model_name": "LayoutModel",
            "_view_count": null,
            "_view_module": "@jupyter-widgets/base",
            "_view_module_version": "1.2.0",
            "_view_name": "LayoutView",
            "align_content": null,
            "align_items": null,
            "align_self": null,
            "border": null,
            "bottom": null,
            "display": null,
            "flex": null,
            "flex_flow": null,
            "grid_area": null,
            "grid_auto_columns": null,
            "grid_auto_flow": null,
            "grid_auto_rows": null,
            "grid_column": null,
            "grid_gap": null,
            "grid_row": null,
            "grid_template_areas": null,
            "grid_template_columns": null,
            "grid_template_rows": null,
            "height": null,
            "justify_content": null,
            "justify_items": null,
            "left": null,
            "margin": null,
            "max_height": null,
            "max_width": null,
            "min_height": null,
            "min_width": null,
            "object_fit": null,
            "object_position": null,
            "order": null,
            "overflow": null,
            "overflow_x": null,
            "overflow_y": null,
            "padding": null,
            "right": null,
            "top": null,
            "visibility": null,
            "width": null
          }
        },
        "bdd3583c40874da5bdbc8b3f77231bdf": {
          "model_module": "@jupyter-widgets/controls",
          "model_name": "DescriptionStyleModel",
          "model_module_version": "1.5.0",
          "state": {
            "_model_module": "@jupyter-widgets/controls",
            "_model_module_version": "1.5.0",
            "_model_name": "DescriptionStyleModel",
            "_view_count": null,
            "_view_module": "@jupyter-widgets/base",
            "_view_module_version": "1.2.0",
            "_view_name": "StyleView",
            "description_width": ""
          }
        },
        "6265c72d79894f5ebff077d0741c51b6": {
          "model_module": "@jupyter-widgets/base",
          "model_name": "LayoutModel",
          "model_module_version": "1.2.0",
          "state": {
            "_model_module": "@jupyter-widgets/base",
            "_model_module_version": "1.2.0",
            "_model_name": "LayoutModel",
            "_view_count": null,
            "_view_module": "@jupyter-widgets/base",
            "_view_module_version": "1.2.0",
            "_view_name": "LayoutView",
            "align_content": null,
            "align_items": null,
            "align_self": null,
            "border": null,
            "bottom": null,
            "display": null,
            "flex": null,
            "flex_flow": null,
            "grid_area": null,
            "grid_auto_columns": null,
            "grid_auto_flow": null,
            "grid_auto_rows": null,
            "grid_column": null,
            "grid_gap": null,
            "grid_row": null,
            "grid_template_areas": null,
            "grid_template_columns": null,
            "grid_template_rows": null,
            "height": null,
            "justify_content": null,
            "justify_items": null,
            "left": null,
            "margin": null,
            "max_height": null,
            "max_width": null,
            "min_height": null,
            "min_width": null,
            "object_fit": null,
            "object_position": null,
            "order": null,
            "overflow": null,
            "overflow_x": null,
            "overflow_y": null,
            "padding": null,
            "right": null,
            "top": null,
            "visibility": null,
            "width": null
          }
        },
        "5cf7b3ffb474482ca1c79ce609a1a46e": {
          "model_module": "@jupyter-widgets/controls",
          "model_name": "ProgressStyleModel",
          "model_module_version": "1.5.0",
          "state": {
            "_model_module": "@jupyter-widgets/controls",
            "_model_module_version": "1.5.0",
            "_model_name": "ProgressStyleModel",
            "_view_count": null,
            "_view_module": "@jupyter-widgets/base",
            "_view_module_version": "1.2.0",
            "_view_name": "StyleView",
            "bar_color": null,
            "description_width": ""
          }
        },
        "143ff0c18385446fb78c810d6585de52": {
          "model_module": "@jupyter-widgets/base",
          "model_name": "LayoutModel",
          "model_module_version": "1.2.0",
          "state": {
            "_model_module": "@jupyter-widgets/base",
            "_model_module_version": "1.2.0",
            "_model_name": "LayoutModel",
            "_view_count": null,
            "_view_module": "@jupyter-widgets/base",
            "_view_module_version": "1.2.0",
            "_view_name": "LayoutView",
            "align_content": null,
            "align_items": null,
            "align_self": null,
            "border": null,
            "bottom": null,
            "display": null,
            "flex": null,
            "flex_flow": null,
            "grid_area": null,
            "grid_auto_columns": null,
            "grid_auto_flow": null,
            "grid_auto_rows": null,
            "grid_column": null,
            "grid_gap": null,
            "grid_row": null,
            "grid_template_areas": null,
            "grid_template_columns": null,
            "grid_template_rows": null,
            "height": null,
            "justify_content": null,
            "justify_items": null,
            "left": null,
            "margin": null,
            "max_height": null,
            "max_width": null,
            "min_height": null,
            "min_width": null,
            "object_fit": null,
            "object_position": null,
            "order": null,
            "overflow": null,
            "overflow_x": null,
            "overflow_y": null,
            "padding": null,
            "right": null,
            "top": null,
            "visibility": null,
            "width": null
          }
        },
        "eee7d542b27044b79c05e64d21b95061": {
          "model_module": "@jupyter-widgets/controls",
          "model_name": "DescriptionStyleModel",
          "model_module_version": "1.5.0",
          "state": {
            "_model_module": "@jupyter-widgets/controls",
            "_model_module_version": "1.5.0",
            "_model_name": "DescriptionStyleModel",
            "_view_count": null,
            "_view_module": "@jupyter-widgets/base",
            "_view_module_version": "1.2.0",
            "_view_name": "StyleView",
            "description_width": ""
          }
        }
      }
    }
  },
  "cells": [
    {
      "cell_type": "markdown",
      "source": [
        "#Formatter\n",
        "\n",
        "mock-версия пайплайна"
      ],
      "metadata": {
        "id": "6KXYlLTGzKaH"
      }
    },
    {
      "cell_type": "markdown",
      "source": [
        "Зависимости"
      ],
      "metadata": {
        "id": "pFbrq0VU5ezz"
      }
    },
    {
      "cell_type": "code",
      "source": [
        "#!pip install -q stanza langdetect deep-translator sentence-transformers scikit-learn langchain langchain-openai python-dotenv stop-words"
      ],
      "metadata": {
        "id": "SD84EIk_zAiH"
      },
      "execution_count": 5,
      "outputs": []
    },
    {
      "cell_type": "markdown",
      "source": [
        "импорты"
      ],
      "metadata": {
        "id": "JL03mvoE5gvv"
      }
    },
    {
      "cell_type": "code",
      "source": [
        "# from langdetect import detect, LangDetectException\n",
        "# from deep_translator import GoogleTranslator\n",
        "# from collections import Counter\n",
        "# import stanza\n",
        "# from stop_words import get_stop_words\n",
        "# #from .config import USE_GPU\n",
        "# import os\n",
        "# import hashlib\n",
        "# from collections import defaultdict\n",
        "# from typing import List, Dict, Any, Optional\n",
        "# from dotenv import load_dotenv\n",
        "# from langchain_openai import ChatOpenAI\n",
        "# from langchain.prompts import ChatPromptTemplate\n",
        "# from langchain_core.output_parsers import JsonOutputParser\n",
        "# from pydantic import BaseModel, Field\n",
        "# from langdetect import detect, LangDetectException\n",
        "# from deep_translator import GoogleTranslator\n",
        "# from collections import Counter\n",
        "# import stanza\n",
        "# from stop_words import get_stop_words\n",
        "# import numpy as np\n",
        "# from sentence_transformers import SentenceTransformer\n",
        "# from sklearn.cluster import AgglomerativeClustering"
      ],
      "metadata": {
        "id": "WW2VgUmq4UNO"
      },
      "execution_count": null,
      "outputs": []
    },
    {
      "cell_type": "code",
      "source": [
        "#import stanza\n",
        "#stanza.download('ru')"
      ],
      "metadata": {
        "colab": {
          "base_uri": "https://localhost:8080/",
          "height": 152,
          "referenced_widgets": [
            "37eebba0cf5d47cfa972dae7399e9968",
            "c5ac352fa0b848129acb3e688b3bcfc8",
            "e9684fc92c2444be9e793f6dea9f8a09",
            "57fe485a10364abcbc426415e39b6d8a",
            "10cae2dca6d54ec5b50cb9893cad2870",
            "835554be34294cd49121c3f5c53677f1",
            "19bea2e7a51d481791305957d16a1beb",
            "481cd852336347e8a7e15917a15fb260",
            "d67c69167cb94e84aeeb3964ea7d9cc0",
            "dad341635932431987d96811b0279ded",
            "56d964a8f8d649598516188de2c81b92",
            "47da3fdebe1a454e8db6ccbc41fa4902",
            "1099f9be35f74a8591af9b333814993d",
            "542ccd44397f4e61b46d4da61992b01f",
            "5c1bd2d3ed984346957865c90049a2ae",
            "1fdb55fad8a0418e817ddd222edb5f3b",
            "9bdb4540c5d8442689268194feb57f1a",
            "bdd3583c40874da5bdbc8b3f77231bdf",
            "6265c72d79894f5ebff077d0741c51b6",
            "5cf7b3ffb474482ca1c79ce609a1a46e",
            "143ff0c18385446fb78c810d6585de52",
            "eee7d542b27044b79c05e64d21b95061"
          ]
        },
        "id": "adTvoc_0zOiD",
        "outputId": "c0c13f28-9a5e-46dd-8d18-43a3451f9dce"
      },
      "execution_count": 2,
      "outputs": [
        {
          "output_type": "display_data",
          "data": {
            "text/plain": [
              "Downloading https://raw.githubusercontent.com/stanfordnlp/stanza-resources/main/resources_1.10.0.json:   0%|  …"
            ],
            "application/vnd.jupyter.widget-view+json": {
              "version_major": 2,
              "version_minor": 0,
              "model_id": "37eebba0cf5d47cfa972dae7399e9968"
            }
          },
          "metadata": {}
        },
        {
          "output_type": "stream",
          "name": "stderr",
          "text": [
            "INFO:stanza:Downloaded file to /root/stanza_resources/resources.json\n",
            "INFO:stanza:Downloading default packages for language: ru (Russian) ...\n"
          ]
        },
        {
          "output_type": "display_data",
          "data": {
            "text/plain": [
              "Downloading https://huggingface.co/stanfordnlp/stanza-ru/resolve/v1.10.0/models/default.zip:   0%|          | …"
            ],
            "application/vnd.jupyter.widget-view+json": {
              "version_major": 2,
              "version_minor": 0,
              "model_id": "47da3fdebe1a454e8db6ccbc41fa4902"
            }
          },
          "metadata": {}
        },
        {
          "output_type": "stream",
          "name": "stderr",
          "text": [
            "INFO:stanza:Downloaded file to /root/stanza_resources/ru/default.zip\n",
            "INFO:stanza:Finished downloading models and saved to /root/stanza_resources\n"
          ]
        }
      ]
    },
    {
      "cell_type": "markdown",
      "source": [
        "## Основные классы"
      ],
      "metadata": {
        "id": "9TYCI34d5j2T"
      }
    },
    {
      "cell_type": "code",
      "source": [
        "# mock_classes\n",
        "\n",
        "class NewsProcessor:\n",
        "    def process_news_list(self, news_list):\n",
        "        \"\"\"Обогащает поля с новостями\"\"\"\n",
        "        for item in news_list:\n",
        "            item[\"translation\"] = item.get(\"text\", \"\")\n",
        "            item[\"entities\"] = [\"Сбербанк\", \"ЦБ РФ\"]  # фиксированные сущности\n",
        "            item[\"keywords\"] = [\"ставка\", \"инфляция\", \"рынок\"]  # заглушка\n",
        "            item[\"lemmatized\"] = item[\"text\"].lower()\n",
        "        return news_list\n",
        "\n",
        "\n",
        "class NewsClusterer:\n",
        "    def cluster(self, news_list, **kwargs):\n",
        "        \"\"\"Присваивает всем новостям кластер c аггломеративной кластеризацией\"\"\"\n",
        "        for i, item in enumerate(news_list):\n",
        "            # Можно имитировать разные кластеры, но для простоты — один\n",
        "            item[\"cluster_id\"] = 0\n",
        "        return news_list\n",
        "\n",
        "\n",
        "class DraftGenerator:\n",
        "    def generate_drafts(self, news_list):\n",
        "        \"\"\"Генерирует черновик на основе кластера.\"\"\"\n",
        "        if not news_list:\n",
        "            return {\"drafts\": []}\n",
        "\n",
        "        # Имитируем один кластер\n",
        "        draft = {\n",
        "            \"title\": \"Ключевая ставка ЦБ РФ повышена до 17%\",\n",
        "            \"draft\": {\n",
        "                \"lead\": \"Банк России усилил денежно-кредитную политику на фоне роста инфляционных рисков.\",\n",
        "                \"bullet_1\": \"Контекст: Решение принято на фоне устойчивого превышения инфляции над целевым уровнем.\",\n",
        "                \"bullet_2\": \"Сценарий: Ожидается замедление кредитования и рост доходности ОФЗ.\",\n",
        "                \"bullet_3\": \"Рекомендация: Инвесторам — увеличить долю в коротких облигациях и защищённых акциях.\",\n",
        "                \"quote\": \"«Мы видим необходимость в более жёсткой политике», — заявил председатель ЦБ.\"\n",
        "            },\n",
        "            \"sources\": [\n",
        "                {\n",
        "                    \"name\": item[\"source\"][\"name\"],\n",
        "                    \"url\": item[\"source\"][\"url\"],\n",
        "                    \"credibility\": item[\"source\"][\"credibility\"]\n",
        "                }\n",
        "                for item in news_list[:2]  # первые 2 источника\n",
        "            ],\n",
        "            \"hotness\": max(n[\"hotness\"] for n in news_list),\n",
        "            \"entities\": [\"ЦБ РФ\", \"ключевая ставка\"],\n",
        "            \"cluster_id\": 0\n",
        "        }\n",
        "        return {\"drafts\": [draft]}"
      ],
      "metadata": {
        "id": "UVIE1zTm3mBE"
      },
      "execution_count": 11,
      "outputs": []
    },
    {
      "cell_type": "code",
      "source": [
        "# import os\n",
        "# from google.colab import userdata"
      ],
      "metadata": {
        "id": "y37fIWnd2tTt"
      },
      "execution_count": 12,
      "outputs": []
    },
    {
      "cell_type": "code",
      "source": [
        "#os.environ[\"OPENROUTER_API_KEY\"] = userdata.get('OPENROUTER_API_KEY')"
      ],
      "metadata": {
        "id": "_iDg9IYG2yr4"
      },
      "execution_count": 19,
      "outputs": []
    },
    {
      "cell_type": "code",
      "execution_count": 14,
      "metadata": {
        "id": "TdU_j8W-y9E2"
      },
      "outputs": [],
      "source": [
        "# Пример входных данных (замените на свои)\n",
        "raw_news = [\n",
        "    {\n",
        "        \"news\": {\n",
        "            \"title\": \"ЦБ РФ повысил ключевую ставку\",\n",
        "            \"content\": \"Банк России на заседании 27 сентября 2024 года принял решение повысить ключевую ставку на 50 базисных пунктов — до 17% годовых.\",\n",
        "            \"source\": \"Коммерсантъ\",\n",
        "            \"link\": \"https://example.com/cbr-rate-hike\"\n",
        "        },\n",
        "        \"validation\": {\"credibility_score\": 9},\n",
        "        \"hotness_score\": 8\n",
        "    },\n",
        "    {\n",
        "        \"news\": {\n",
        "            \"title\": \"Ключевая ставка ЦБ выросла до 17%\",\n",
        "            \"content\": \"Регулятор усилил денежно-кредитную политику из-за роста инфляционных ожиданий.\",\n",
        "            \"source\": \"РИА Новости\",\n",
        "            \"link\": \"https://example.com/ria-cbr\"\n",
        "        },\n",
        "        \"validation\": {\"credibility_score\": 8},\n",
        "        \"hotness_score\": 7\n",
        "    }\n",
        "]"
      ]
    },
    {
      "cell_type": "markdown",
      "source": [
        "## Пайплайн"
      ],
      "metadata": {
        "id": "bAVqUqt95Ui1"
      }
    },
    {
      "cell_type": "code",
      "source": [
        "def run_pipeline(news):\n",
        "    processor = NewsProcessor()\n",
        "    enriched = processor.process_news_list(news)\n",
        "    clusterer = NewsClusterer()\n",
        "    clustered = clusterer.cluster(enriched)\n",
        "    generator = DraftGenerator()\n",
        "    drafts = generator.generate_drafts(clustered)\n",
        "    return drafts\n",
        "\n",
        "# Запуск\n",
        "result = run_pipeline(news)"
      ],
      "metadata": {
        "id": "Yto8JWJa3tKp"
      },
      "execution_count": 15,
      "outputs": []
    },
    {
      "cell_type": "markdown",
      "source": [
        "## Результат"
      ],
      "metadata": {
        "id": "Va9efZum5Z7G"
      }
    },
    {
      "cell_type": "code",
      "source": [
        "import json\n",
        "print(json.dumps(result, ensure_ascii=False, indent=2))"
      ],
      "metadata": {
        "colab": {
          "base_uri": "https://localhost:8080/"
        },
        "id": "cNXbQf9R3y0J",
        "outputId": "6c3b7661-6274-4068-8ebd-1ba21061599d"
      },
      "execution_count": 17,
      "outputs": [
        {
          "output_type": "stream",
          "name": "stdout",
          "text": [
            "{\n",
            "  \"drafts\": [\n",
            "    {\n",
            "      \"title\": \"Ключевая ставка ЦБ РФ повышена до 17%\",\n",
            "      \"draft\": {\n",
            "        \"lead\": \"Банк России усилил денежно-кредитную политику на фоне роста инфляционных рисков.\",\n",
            "        \"bullet_1\": \"Контекст: Решение принято на фоне устойчивого превышения инфляции над целевым уровнем.\",\n",
            "        \"bullet_2\": \"Сценарий: Ожидается замедление кредитования и рост доходности ОФЗ.\",\n",
            "        \"bullet_3\": \"Рекомендация: Инвесторам — увеличить долю в коротких облигациях и защищённых акциях.\",\n",
            "        \"quote\": \"«Мы видим необходимость в более жёсткой политике», — заявил председатель ЦБ.\"\n",
            "      },\n",
            "      \"sources\": [\n",
            "        {\n",
            "          \"name\": \"Коммерсантъ\",\n",
            "          \"url\": \"https://example.com/cbr-rate-hike\",\n",
            "          \"credibility\": 0.9\n",
            "        },\n",
            "        {\n",
            "          \"name\": \"РИА Новости\",\n",
            "          \"url\": \"https://example.com/ria-cbr\",\n",
            "          \"credibility\": 0.8\n",
            "        }\n",
            "      ],\n",
            "      \"hotness\": 0.8,\n",
            "      \"entities\": [\n",
            "        \"ЦБ РФ\",\n",
            "        \"ключевая ставка\"\n",
            "      ],\n",
            "      \"cluster_id\": 0\n",
            "    }\n",
            "  ]\n",
            "}\n"
          ]
        }
      ]
    }
  ]
}