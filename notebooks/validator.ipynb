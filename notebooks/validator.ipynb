{
 "cells": [
  {
   "cell_type": "code",
   "execution_count": null,
   "id": "cdeadbdc",
   "metadata": {},
   "outputs": [],
   "source": [
    "from langchain.chat_models import ChatOpenAI\n",
    "from langchain.prompts import ChatPromptTemplate\n",
    "from langchain.output_parsers import StructuredOutputParser, ResponseSchema\n",
    "from langchain.schema import SystemMessage, HumanMessage\n",
    "import json\n",
    "\n",
    "class Validator:\n",
    "    def __init__(self, api_key: str, model: str = \"openai/gpt-4o\"):\n",
    "        self.llm = ChatOpenAI(\n",
    "            model=model,\n",
    "            openai_api_key=api_key,\n",
    "            openai_api_base=\"https://openrouter.ai/api/v1\"\n",
    "        )\n",
    "\n",
    "        # Определяем структуру ответа\n",
    "        self.output_parser = StructuredOutputParser.from_response_schemas([\n",
    "            ResponseSchema(name=\"is_financial\", description=\"1 если новость относится к финансам/экономике, 0 если нет\"),\n",
    "            ResponseSchema(name=\"credibility_score\", description=\"Оценка достоверности источника от 0 до 10\"),\n",
    "            ResponseSchema(name=\"explanation\", description=\"Короткое объяснение оценки\")\n",
    "        ])\n",
    "\n",
    "    def validate_news(self, news: dict):\n",
    "        \"\"\"\n",
    "        Проверяет новость и возвращает словарь с полями:\n",
    "        is_financial, credibility_score, explanation\n",
    "        \"\"\"\n",
    "        prompt_text = f\"\"\"\n",
    "        Ты эксперт-валидатор финансовых новостей.\n",
    "        Проверить следующую новость и вернуть ответ строго в JSON формате с полями: \n",
    "        is_financial (1/0), credibility_score (0-10), explanation.\n",
    "\n",
    "        Заголовок: {news.get(\"title\")}\n",
    "        Контент: {news.get(\"content\")}\n",
    "        Источник: {news.get(\"source\")}\n",
    "        \"\"\"\n",
    "        response = self.llm([\n",
    "            SystemMessage(content=\"Ты эксперт-валидатор финансовых новостей.\"),\n",
    "            HumanMessage(content=prompt_text)\n",
    "        ])\n",
    "\n",
    "        parsed = self.output_parser.parse(response.content)\n",
    "        return parsed\n",
    "\n",
    "    def filter_news(self, news_list: list, k: float = 7):\n",
    "        \"\"\"\n",
    "        Фильтрует новости:\n",
    "        - оставляет только новости по финансам/экономике\n",
    "        - оставляет только новости с рейтингом источника >= k\n",
    "        :param news_list: список новостей в формате словаря\n",
    "        :param k: минимальный рейтинг источника (0-10)\n",
    "        :return: список отфильтрованных новостей с результатами проверки\n",
    "        \"\"\"\n",
    "        filtered = []\n",
    "\n",
    "        for news in news_list:\n",
    "            print(f\"Validating: {news.get('title')}\")\n",
    "            validation = self.validate_news(news)\n",
    "\n",
    "            is_financial = int(validation.get(\"is_financial\", 0))\n",
    "            credibility_score = float(validation.get(\"credibility_score\", 0))\n",
    "\n",
    "            if is_financial == 1 and credibility_score >= k:\n",
    "                filtered.append({\n",
    "                    \"news\": news,\n",
    "                    \"validation\": validation\n",
    "                })\n",
    "\n",
    "        return filtered\n"
   ]
  },
  {
   "cell_type": "code",
   "execution_count": 17,
   "id": "1d5f4a26",
   "metadata": {},
   "outputs": [
    {
     "name": "stdout",
     "output_type": "stream",
     "text": [
      "Validating: BofA Global Research moves Fed rate cut forecast to October from December\n",
      "Validating: Stocks mixed, gold hits record as US government shuts down\n",
      "Validating: Dow, S&P 500 manage record closing highs; Nasdaq falls in volatile session\n",
      "Validating: Wall Street closes with records as tech support offsets labor, shutdown uncertainties\n",
      "Validating: US equity funds see sharp weekly inflows on rate cut hopes\n",
      "Validating: Global banking climate alliance folds four years after launch\n",
      "Validating: Gulf sovereign wealth funds defy lower oil prices to top global investment\n",
      "Validating: AI will trigger financial calamity. It'll also remake world.\n",
      "Validating: UK's FTSE 100 share index closes at record high as AstraZeneca becomes London's biggest stock again\n",
      "Validating: Israel and Hamas\n",
      "Отфильтровано 8 новостей из 10\n"
     ]
    }
   ],
   "source": [
    "with open(r\"C:\\Users\\Mikhail\\Desktop\\hackaton\\Buy_and_cry_radar\\cache\\test_cases.json\", \"r\", encoding=\"utf-8\") as f:\n",
    "    news_list = json.load(f)\n",
    "\n",
    "validator = Validator(api_key=\"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\")\n",
    "filtered_news = validator.filter_news(news_list, k=7)\n",
    "\n",
    "# Сохраняем отфильтрованные новости\n",
    "with open(r\"C:\\Users\\Mikhail\\Desktop\\hackaton\\Buy_and_cry_radar\\cache\\filtered_news.json\", \"w\", encoding=\"utf-8\") as f:\n",
    "    json.dump(filtered_news, f, indent=2, ensure_ascii=False)\n",
    "\n",
    "print(f\"Отфильтровано {len(filtered_news)} новостей из {len(news_list)}\")"
   ]
  },
  {
   "cell_type": "code",
   "execution_count": null,
   "id": "ccd20bf3",
   "metadata": {},
   "outputs": [],
   "source": []
  }
 ],
 "metadata": {
  "kernelspec": {
   "display_name": "llm",
   "language": "python",
   "name": "python3"
  },
  "language_info": {
   "codemirror_mode": {
    "name": "ipython",
    "version": 3
   },
   "file_extension": ".py",
   "mimetype": "text/x-python",
   "name": "python",
   "nbconvert_exporter": "python",
   "pygments_lexer": "ipython3",
   "version": "3.11.0"
  }
 },
 "nbformat": 4,
 "nbformat_minor": 5
}
